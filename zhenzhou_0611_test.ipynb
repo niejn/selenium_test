{
 "cells": [
  {
   "cell_type": "code",
   "execution_count": null,
   "metadata": {
    "collapsed": true
   },
   "outputs": [],
   "source": [
    "import xml\n",
    "from urllib.parse import urlencode\n",
    "from urllib.request import urlopen, Request\n",
    "import json\n",
    "from urllib.request import urlopen\n",
    "import json\n",
    "import requests\n",
    "import json\n",
    "import pandas as pd\n",
    "from bs4 import BeautifulSoup\n",
    "from lxml import html\n",
    "import xml.etree.ElementTree as ET\n",
    "import io\n",
    "import lxml.html\n",
    "import re \n",
    "import datetime\n",
    "\n",
    "session = requests.Session()  # params = {'username': 'username', 'password': 'password'}\n",
    "s = session.post(\"http://www.czce.com.cn/portal/index.htm\")\n",
    "\n",
    "print(s.cookies.get_dict())\n",
    "print(\"-----------\")\n",
    "print(\"Going to profile page...\")\n",
    "# s = session.get(\"http://www.czce.com.cn/portal/DFSStaticFiles/Future/2018/20180309/FutureDataHolding.htm\")\n",
    "# http://www.czce.com.cn/portal/DFSStaticFiles/Future/2017/20171026/FutureDataDaily.xls\n",
    "# http://www.czce.com.cn/portal/DFSStaticFiles/Future/2018/20180522/FutureDataHolding.txt\n",
    "# http://www.czce.com.cn/portal/DFSStaticFiles/Future/2018/20180523/FutureDataHolding.htm\n",
    "# url = 'http://www.czce.com.cn/portal/DFSStaticFiles/Future/2018/20180416/FutureDataTradeamt.htm'\n",
    "url = 'http://www.czce.com.cn/portal/DFSStaticFiles/Future/2018/20180523/FutureDataHolding.htm'\n",
    "s = session.get(url)\n",
    "s.encoding = 'gbk'\n",
    "# print(s.text)\n",
    "\n",
    "raw_string = lxml.html.fromstring(s.text)\n",
    "raw_html = raw_string.cssselect(\"div.div_class ul > li\")\n",
    "for item in ras_html:\n",
    "    print(item.text_content())"
   ]
  }
 ],
 "metadata": {
  "kernelspec": {
   "display_name": "Python 2",
   "language": "python",
   "name": "python2"
  },
  "language_info": {
   "codemirror_mode": {
    "name": "ipython",
    "version": 2
   },
   "file_extension": ".py",
   "mimetype": "text/x-python",
   "name": "python",
   "nbconvert_exporter": "python",
   "pygments_lexer": "ipython2",
   "version": "2.7.6"
  }
 },
 "nbformat": 4,
 "nbformat_minor": 0
}
