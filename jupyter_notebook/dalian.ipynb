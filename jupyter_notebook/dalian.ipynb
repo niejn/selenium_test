{
 "cells": [
  {
   "cell_type": "code",
   "execution_count": 26,
   "metadata": {
    "collapsed": true
   },
   "outputs": [
    {
     "name": "stdout",
     "output_type": "stream",
     "text": [
      "{'ETag': '\"9878-56bae81664cc0\"', 'Last-Modified': 'Tue, 08 May 2018 09:35:23 GMT', 'Content-Type': 'text/html', 'Connection': 'Keep-Alive', 'Keep-Alive': 'timeout=5, max=200', 'Content-Length': '39032', 'Vary': 'Accept-Encoding', 'Server': 'ABC', 'Date': 'Fri, 15 Jun 2018 02:01:37 GMT', 'Accept-Ranges': 'bytes'}\n"
     ]
    }
   ],
   "source": [
    "from urllib.parse import urlencode\n",
    "from urllib.request import urlopen, Request\n",
    "import json\n",
    "from io import StringIO, BytesIO\n",
    "# html = urlopen(\"http://www.shfe.com.cn/data/dailydata/kx/pm20180307.dat\")\n",
    "\n",
    "'''\n",
    "memberDealPosiQuotes.variety:b\n",
    "memberDealPosiQuotes.trade_type:0\n",
    "year:2018\n",
    "month:2\n",
    "day:09\n",
    "contract.contract_id:all\n",
    "contract.variety_id:b\n",
    "'''\n",
    "'''\n",
    "memberDealPosiQuotes.variety: b\n",
    "memberDealPosiQuotes.trade_type: 0\n",
    "year: \n",
    "month: \n",
    "day: \n",
    "contract.contract_id: all\n",
    "contract.variety_id: b\n",
    "'''\n",
    "\n",
    "values = {\n",
    "    'memberDealPosiQuotes.variety': 'b',\n",
    "    'memberDealPosiQuotes.trade_type': '0',\n",
    "    'year': '2018',\n",
    "    'month': '5',\n",
    "    'day': '11',\n",
    "    'contract.contract_id': 'all',\n",
    "    'contract.variety_id': 'b',\n",
    "}\n",
    "\n",
    "headers = {\n",
    "        'Accept': 'text/html,application/xhtml+xml,application/xml;q=0.9,image/webp,image/apng,*/*;q=0.8',\n",
    "        'Accept-Encoding': 'gzip, deflate',\n",
    "        'Accept-Language': 'zh-CN,zh;q=0.9',\n",
    "        # 'Connection': 'keep-alive',\n",
    "\n",
    "        # 'Host': 'www.shfe.com.cn',\n",
    "        'Referer': 'http://www.dce.com.cn/dalianshangpin/xqsj/tjsj26/rtj/rxq/index.html',\n",
    "        'X-Requested-With': 'XMLHttpRequest',\n",
    "        'User-Agent': 'Mozilla/5.0 (Windows NT 10.0; WOW64) AppleWebKit/537.36 (KHTML, like Gecko) Chrome/64.0.3282.186 Safari/537.36',\n",
    "\n",
    "    }\n",
    "\n",
    "import requests\n",
    "url = \"http://www.dce.com.cn/publicweb/quotesdata/memberDealPosiQuotes.html\"\n",
    "session = requests.Session()\n",
    "session.headers.update(headers)\n",
    "s = session.get(\"http://www.dce.com.cn/dalianshangpin/xqsj/tjsj26/rtj/rcjccpm/index.html\")\n",
    "print(s.headers)\n",
    "s = session.post(url, values)\n",
    "print(s.headers)\n",
    "# s.encoding = 'gbk'\n",
    "print(s.text)\n",
    "\n",
    "\n",
    "\n"
   ]
  },
  {
   "cell_type": "code",
   "execution_count": 18,
   "metadata": {},
   "outputs": [],
   "source": [
    "from lxml import html\n",
    "from lxml import etree\n",
    "\n",
    "tree = etree.HTML(s.text)\n",
    "\n"
   ]
  },
  {
   "cell_type": "code",
   "execution_count": 25,
   "metadata": {},
   "outputs": [
    {
     "name": "stdout",
     "output_type": "stream",
     "text": [
      "<_io.StringIO object at 0x0000026912BC6CA8>\n"
     ]
    }
   ],
   "source": [
    "table = tree.xpath('//div/table')[1]\n",
    "print(StringIO(s.text))\n",
    "# res = etree.tostring(table)\n",
    "# print(res)"
   ]
  },
  {
   "cell_type": "code",
   "execution_count": null,
   "metadata": {},
   "outputs": [],
   "source": []
  }
 ],
 "metadata": {
  "kernelspec": {
   "display_name": "Python 2",
   "language": "python",
   "name": "python2"
  },
  "language_info": {
   "codemirror_mode": {
    "name": "ipython",
    "version": 2
   },
   "file_extension": ".py",
   "mimetype": "text/x-python",
   "name": "python",
   "nbconvert_exporter": "python",
   "pygments_lexer": "ipython2",
   "version": "2.7.6"
  }
 },
 "nbformat": 4,
 "nbformat_minor": 0
}
